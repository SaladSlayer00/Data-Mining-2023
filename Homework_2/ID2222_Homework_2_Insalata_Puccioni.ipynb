{
 "cells": [
  {
   "cell_type": "markdown",
   "id": "5d77a0d7",
   "metadata": {},
   "source": [
    "# ID2222 Data Mining - Homework 2\n",
    "\n",
    "Notebook by Beatrice Insalata, Laura Puccioni"
   ]
  },
  {
   "cell_type": "markdown",
   "id": "1f418e4e",
   "metadata": {},
   "source": [
    "For this task, we are asked to implement the A-Priori algorithm to identify frequent itemsets with a support of at least 's' in a sales transactions dataset. We have used the Python language to evaluate and validate the A-Priori implementation on the given dataset."
   ]
  },
  {
   "cell_type": "markdown",
   "id": "057aa995",
   "metadata": {},
   "source": [
    "## Dataset\n",
    "Our dataset consists of a sale transaction database (T10I4D100K). The dataset contains 100,000 baskets summing up to 1,010,228 items, with a market size of 870 different items."
   ]
  },
  {
   "cell_type": "code",
   "execution_count": 9,
   "id": "7ac6ee37",
   "metadata": {},
   "outputs": [],
   "source": [
    "#Here we read from a file .dat assuming that on every row of the file there is a basket of items and create a list of baskets\n",
    "\n",
    "with open('T10I4D100K.dat', \"r\") as f:\n",
    "    baskets = list(\n",
    "        map(\n",
    "            lambda basket: [int(item_id) for item_id in basket.split()],\n",
    "            f.read().splitlines()\n",
    "        )\n",
    "    )\n",
    "f.close()"
   ]
  },
  {
   "cell_type": "markdown",
   "id": "a1a3a199",
   "metadata": {},
   "source": [
    "# A-Priori Algorithm Implementation\n",
    "\n",
    "The Apriori algorithm operates in two passes. In the initial pass, it scans through the baskets, counting the occurrences of each individual item (singletons). In the subsequent pass, the algorithm revisits the baskets, focusing only on pairs where both elements are identified as frequent during the first pass. This process continues iteratively, incrementing the itemset size with each pass. The primary aim is to efficiently identify and prune non-frequent itemsets, ultimately discovering frequent itemsets and their support levels in the dataset.\n",
    "\n",
    "The iterative nature of the algorithm allows it to progressively explore larger itemsets while leveraging the knowledge gained from previous passes. This two-pass strategy minimizes the need for multiple scans of the entire dataset and optimizes the discovery of frequent itemsets."
   ]
  },
  {
   "cell_type": "markdown",
   "id": "f79728d1",
   "metadata": {},
   "source": [
    "## Pass 1 : Find frequent singletons\n",
    "\n",
    "During the initial pass, the Apriori algorithm identifies frequent single elements, or 1-itemsets, within the dataset. The term \"frequent\" here implies that these individual elements occur with a frequency at least equal to a specified threshold called \"support\". Essentially, this step involves finding and recording items that are individually popular or common, laying the foundation for subsequent steps in discovering larger sets of items with significant occurrences."
   ]
  },
  {
   "cell_type": "code",
   "execution_count": 10,
   "id": "32a53e04",
   "metadata": {},
   "outputs": [],
   "source": [
    "\"\"\"\n",
    "This function takes as arguments the set of baskets and the threshold called \"support\", \n",
    "and returns the set of frequent singletons, that is the frequent 1-item sets.\n",
    "\"\"\"\n",
    "def find_frequent_singletons_with_support(baskets, support):\n",
    "    \n",
    "    occurrences = {} # a dictionary containing occurence of items in baskets\n",
    "    for itemset in baskets:\n",
    "        for item in itemset:\n",
    "            if item not in occurrences: # this item didn't exist in previous baskets, initialize with 1\n",
    "                occurrences[item] = 1\n",
    "            else:\n",
    "                occurrences[item] += 1\n",
    "    #print({key:value for key, value in occurrences.items() if value >= support})\n",
    "    return {key for key, value in occurrences.items() if value >= support}"
   ]
  },
  {
   "cell_type": "markdown",
   "id": "88983911",
   "metadata": {},
   "source": [
    "We can visualize how the step 1 works on a small set of items, for example using the first 5 baskets of the given dataset:"
   ]
  },
  {
   "cell_type": "code",
   "execution_count": 11,
   "id": "ec1e5223",
   "metadata": {},
   "outputs": [
    {
     "name": "stdout",
     "output_type": "stream",
     "text": [
      "[[25, 52, 164, 240, 274, 328, 368, 448, 538, 561, 630, 687, 730, 775, 825, 834], [39, 120, 124, 205, 401, 581, 704, 814, 825, 834], [35, 249, 674, 712, 733, 759, 854, 950], [39, 422, 449, 704, 825, 857, 895, 937, 954, 964], [15, 229, 262, 283, 294, 352, 381, 708, 738, 766, 853, 883, 966, 978]]\n"
     ]
    }
   ],
   "source": [
    "example_dataset = baskets[0:5]\n",
    "print(example_dataset)"
   ]
  },
  {
   "cell_type": "markdown",
   "id": "4a79064e",
   "metadata": {},
   "source": [
    "If, for instance, we want support = 2, we keep the elements that appear in the dataset at least 2 times. We can do this by hand and then check the correctness of the previous function. In this case 39 appears 2 times, 704 appears 2 times, 825 appears 3 times and 834 appears 2 times. So in the end we will have a list of singleton of this type: {39, 704, 825, 934}.\n",
    "Let's check this by calling the find_frequent_singletons_with_support function on the example_dataset with support = 2:"
   ]
  },
  {
   "cell_type": "code",
   "execution_count": 12,
   "id": "f66c9384",
   "metadata": {},
   "outputs": [
    {
     "name": "stdout",
     "output_type": "stream",
     "text": [
      "{825: 3, 834: 2, 39: 2, 704: 2}\n"
     ]
    },
    {
     "data": {
      "text/plain": "{39, 704, 825, 834}"
     },
     "execution_count": 12,
     "metadata": {},
     "output_type": "execute_result"
    }
   ],
   "source": [
    "find_frequent_singletons_with_support(example_dataset, 2)"
   ]
  },
  {
   "cell_type": "markdown",
   "id": "5892381a",
   "metadata": {},
   "source": [
    "Devo finire da qui in poi, aggiungerò più esempi e spiegazioni"
   ]
  },
  {
   "cell_type": "code",
   "execution_count": 13,
   "id": "ae1fde02",
   "metadata": {},
   "outputs": [
    {
     "name": "stdout",
     "output_type": "stream",
     "text": [
      "{825: 3, 834: 2, 39: 2, 704: 2}\n",
      "[(39, 834), (704, 825), (39, 704), (704, 834), (39, 825), (825, 834)]\n"
     ]
    },
    {
     "data": {
      "text/plain": "[(39, 704, 834), (39, 704, 825), (704, 825, 834), (39, 825, 834)]"
     },
     "execution_count": 13,
     "metadata": {},
     "output_type": "execute_result"
    }
   ],
   "source": [
    "def generate_candidates(prev_frequent_itemsets, k):\n",
    "    candidates = set()\n",
    "    \n",
    "    # Ensure prev_frequent_itemsets only contains iterable elements\n",
    "    prev_frequent_itemsets = [itemset if isinstance(itemset, (list, tuple)) else [itemset] for itemset in prev_frequent_itemsets]\n",
    "\n",
    "    for i in range(len(prev_frequent_itemsets)):\n",
    "        for j in range(i + 1, len(prev_frequent_itemsets)):\n",
    "            union_set = set(prev_frequent_itemsets[i]) | set(prev_frequent_itemsets[j])\n",
    "            if len(union_set) == k + 1:\n",
    "                candidates.add(tuple(sorted(union_set)))\n",
    "    \n",
    "    return list(candidates)\n",
    "\n",
    "newset = generate_candidates(find_frequent_singletons_with_support(example_dataset, 2), 1)\n",
    "print(newset)\n",
    "generate_candidates(newset, 2)"
   ]
  },
  {
   "cell_type": "code",
   "execution_count": 14,
   "id": "86f456d3",
   "metadata": {},
   "outputs": [
    {
     "name": "stdout",
     "output_type": "stream",
     "text": [
      "{25: 13, 52: 19, 240: 15, 274: 33, 368: 80, 448: 13, 538: 42, 561: 33, 775: 33, 825: 25, 39: 48, 120: 56, 205: 28, 401: 31, 581: 28, 704: 18, 814: 19, 35: 19, 674: 24, 733: 16, 854: 36, 950: 19, 449: 20, 895: 46, 937: 45, 964: 19, 229: 20, 283: 57, 294: 12, 381: 31, 738: 26, 766: 54, 853: 19, 883: 45, 966: 36, 978: 12, 143: 14, 569: 38, 620: 17, 798: 34, 214: 14, 350: 32, 529: 56, 658: 22, 682: 35, 782: 37, 809: 20, 947: 28, 970: 26, 227: 16, 390: 27, 71: 49, 192: 21, 279: 32, 280: 21, 496: 15, 530: 12, 597: 30, 675: 32, 720: 40, 914: 36, 932: 19, 183: 38, 193: 12, 217: 67, 256: 13, 276: 27, 653: 29, 706: 17, 878: 27, 161: 24, 175: 25, 177: 60, 424: 19, 571: 31, 623: 24, 795: 38, 910: 16, 960: 24, 125: 16, 130: 16, 392: 26, 461: 15, 801: 12, 862: 40, 27: 26, 78: 23, 921: 32, 147: 20, 411: 21, 572: 19, 579: 28, 778: 35, 803: 26, 903: 12, 266: 16, 523: 27, 614: 27, 888: 30, 944: 24, 43: 23, 70: 25, 204: 34, 334: 16, 480: 28, 874: 27, 151: 32, 830: 13, 890: 14, 73: 20, 118: 14, 310: 20, 419: 45, 484: 13, 722: 43, 810: 14, 844: 33, 846: 18, 918: 22, 967: 12, 326: 17, 403: 20, 526: 25, 774: 18, 788: 31, 789: 34, 975: 13, 116: 22, 198: 18, 201: 16, 395: 16, 171: 12, 541: 32, 701: 16, 805: 16, 946: 13, 471: 14, 487: 40, 631: 24, 638: 23, 735: 16, 780: 32, 935: 20, 17: 18, 242: 14, 758: 21, 763: 15, 956: 34, 145: 49, 385: 17, 676: 24, 790: 12, 792: 15, 885: 32, 522: 36, 617: 26, 12: 41, 296: 27, 354: 65, 548: 19, 684: 52, 740: 14, 841: 17, 210: 17, 346: 41, 477: 21, 605: 20, 829: 57, 884: 14, 355: 14, 460: 53, 746: 18, 600: 21, 28: 21, 742: 12, 5: 14, 115: 16, 517: 18, 736: 14, 744: 28, 919: 34, 196: 20, 489: 26, 494: 46, 673: 17, 362: 47, 591: 12, 31: 24, 58: 19, 181: 12, 472: 25, 573: 21, 628: 15, 651: 14, 154: 21, 168: 20, 580: 22, 832: 29, 871: 23, 988: 15, 72: 23, 981: 15, 10: 20, 132: 29, 172: 17, 464: 13, 21: 21, 32: 38, 54: 19, 136: 13, 239: 25, 348: 21, 100: 19, 500: 12, 48: 27, 126: 12, 319: 14, 639: 15, 765: 19, 521: 19, 112: 33, 140: 27, 285: 12, 387: 14, 594: 17, 93: 23, 583: 19, 606: 14, 236: 30, 952: 16, 90: 19, 593: 29, 122: 12, 1: 13, 423: 15, 516: 24, 6: 17, 69: 21, 797: 20, 913: 19, 577: 19, 110: 19, 509: 35, 995: 20, 343: 12, 527: 19, 33: 24, 158: 15, 989: 20, 97: 12, 793: 28, 598: 34, 427: 18, 470: 40, 37: 14, 55: 20, 897: 19, 275: 20, 45: 19, 162: 20, 378: 13, 534: 17, 906: 20, 912: 22, 117: 12, 373: 17, 546: 12, 665: 15, 963: 12, 349: 26, 8: 29, 413: 27, 94: 14, 982: 23, 984: 16, 515: 17, 692: 49, 694: 25, 567: 12, 57: 25, 800: 12, 812: 26, 923: 17, 160: 13, 752: 40, 998: 21, 899: 15, 710: 13, 867: 15, 170: 12, 438: 54, 357: 15, 75: 30, 108: 12, 486: 13, 440: 28, 38: 20, 252: 13, 265: 15, 686: 13, 819: 12, 886: 30, 843: 13, 129: 17, 510: 30, 68: 14, 860: 13, 887: 17, 804: 19, 826: 31, 394: 13, 707: 15, 838: 14, 948: 13, 308: 12, 661: 33, 634: 23, 215: 12, 351: 13, 405: 16, 949: 13, 893: 20, 922: 14, 173: 14, 258: 13, 450: 17, 428: 13, 769: 15}\n",
      "Frequent 1-itemsets: [(801, 862), (283, 346), (33, 346), (58, 354), (529, 598), (561, 888), (75, 438), (217, 346), (39, 825), (346, 515), (789, 829), (33, 217), (529, 782), (788, 956), (33, 283), (283, 515), (33, 515), (346, 561), (487, 510), (75, 684), (217, 283), (354, 752), (217, 515), (368, 829), (392, 862), (438, 684)]\n",
      "Frequent 2-itemsets: [(217, 283, 346), (217, 346, 515), (33, 283, 515), (283, 346, 515), (33, 217, 515), (33, 217, 283), (217, 283, 515), (33, 283, 346), (33, 346, 515), (33, 217, 346)]\n",
      "Frequent 3-itemsets: [(33, 217, 283, 515), (217, 283, 346, 515), (33, 217, 283, 346), (33, 283, 346, 515), (33, 217, 346, 515)]\n",
      "Frequent 4-itemsets: [(33, 217, 283, 346, 515)]\n",
      "Frequent 5-itemsets: []\n"
     ]
    }
   ],
   "source": [
    "def apriori(baskets, min_support):\n",
    "    frequent_itemsets = []\n",
    "    k = 0\n",
    "\n",
    "    # Find frequent 1-itemsets\n",
    "    frequent_singletons = find_frequent_singletons_with_support(baskets, min_support)\n",
    "    frequent_itemsets.extend(frequent_singletons)\n",
    "\n",
    "    while frequent_itemsets: #loop until there are no more frequent itemsets\n",
    "        k += 1\n",
    "        # Generate candidate itemsets\n",
    "        candidate_itemsets = generate_candidates(frequent_itemsets, k)\n",
    "\n",
    "        # Count occurrences of candidate itemsets\n",
    "        itemset_counts = {itemset: 0 for itemset in candidate_itemsets}\n",
    "        for basket in baskets:\n",
    "            for itemset in itemset_counts:\n",
    "                if set(itemset).issubset(basket):\n",
    "                    itemset_counts[itemset] += 1\n",
    "\n",
    "        # Filter frequent itemsets\n",
    "        frequent_itemsets = [itemset for itemset, count in itemset_counts.items() if count >= min_support]\n",
    "\n",
    "        # Print frequent itemsets of size k\n",
    "        print(f\"Frequent {k}-itemsets:\", frequent_itemsets)\n",
    "        \n",
    "apriori(baskets[0:1000], 12)\n"
   ]
  },
  {
   "cell_type": "code",
   "execution_count": null,
   "outputs": [],
   "source": [],
   "metadata": {
    "collapsed": false
   }
  }
 ],
 "metadata": {
  "kernelspec": {
   "display_name": "Python 3 (ipykernel)",
   "language": "python",
   "name": "python3"
  },
  "language_info": {
   "codemirror_mode": {
    "name": "ipython",
    "version": 3
   },
   "file_extension": ".py",
   "mimetype": "text/x-python",
   "name": "python",
   "nbconvert_exporter": "python",
   "pygments_lexer": "ipython3",
   "version": "3.11.5"
  }
 },
 "nbformat": 4,
 "nbformat_minor": 5
}
